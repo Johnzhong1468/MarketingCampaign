{
 "cells": [
  {
   "cell_type": "code",
   "execution_count": 1,
   "metadata": {},
   "outputs": [
    {
     "name": "stderr",
     "output_type": "stream",
     "text": [
      "C:\\Users\\Yiheng\\Anaconda2\\lib\\site-packages\\sklearn\\cross_validation.py:41: DeprecationWarning: This module was deprecated in version 0.18 in favor of the model_selection module into which all the refactored classes and functions are moved. Also note that the interface of the new CV iterators are different from that of this module. This module will be removed in 0.20.\n",
      "  \"This module will be removed in 0.20.\", DeprecationWarning)\n"
     ]
    }
   ],
   "source": [
    "import numpy as np\n",
    "import pandas as pd\n",
    "import math as m\n",
    "import matplotlib.pyplot as plt\n",
    "from sklearn import preprocessing\n",
    "import sklearn.model_selection\n",
    "from sklearn.cross_validation import train_test_split\n",
    "from sklearn.linear_model import LogisticRegression\n",
    "from sklearn.ensemble import RandomForestClassifier\n",
    "from sklearn.ensemble import AdaBoostClassifier\n",
    "from sklearn.ensemble import BaggingClassifier\n",
    "from sklearn.metrics import accuracy_score\n",
    "from sklearn.linear_model import SGDClassifier\n",
    "from sklearn.svm import SVC\n",
    "from sklearn.tree import DecisionTreeClassifier\n",
    "from sklearn.cluster import KMeans\n",
    "%matplotlib inline"
   ]
  },
  {
   "cell_type": "code",
   "execution_count": 168,
   "metadata": {},
   "outputs": [
    {
     "name": "stdout",
     "output_type": "stream",
     "text": [
      "(41188, 22)\n",
      "<class 'pandas.core.frame.DataFrame'>\n",
      "RangeIndex: 41188 entries, 0 to 41187\n",
      "Data columns (total 22 columns):\n",
      "ind               41188 non-null int64\n",
      "age               41188 non-null int64\n",
      "job               40858 non-null object\n",
      "marital           41108 non-null object\n",
      "education         39457 non-null object\n",
      "default           32591 non-null object\n",
      "housing           40198 non-null object\n",
      "loan              40198 non-null object\n",
      "contact           41188 non-null object\n",
      "month             41188 non-null object\n",
      "day_of_week       41188 non-null object\n",
      "duration          41188 non-null int64\n",
      "campaign          41188 non-null int64\n",
      "pdays             41188 non-null int64\n",
      "previous          41188 non-null int64\n",
      "poutcome          5625 non-null object\n",
      "emp.var.rate      41188 non-null float64\n",
      "cons.price.idx    41188 non-null float64\n",
      "cons.conf.idx     41188 non-null float64\n",
      "euribor3m         41188 non-null float64\n",
      "nr.employed       41188 non-null float64\n",
      "y                 41188 non-null object\n",
      "dtypes: float64(5), int64(6), object(11)\n",
      "memory usage: 6.9+ MB\n",
      "None\n"
     ]
    }
   ],
   "source": [
    "data = pd.read_csv(\"data.csv\",sep=\",\")\n",
    "print(data.shape)\n",
    "print data.info()"
   ]
  },
  {
   "cell_type": "code",
   "execution_count": 169,
   "metadata": {},
   "outputs": [
    {
     "name": "stdout",
     "output_type": "stream",
     "text": [
      "<class 'pandas.core.frame.DataFrame'>\n",
      "Int64Index: 38245 entries, 0 to 41187\n",
      "Data columns (total 22 columns):\n",
      "ind               38245 non-null int64\n",
      "age               38245 non-null int64\n",
      "job               38245 non-null object\n",
      "marital           38245 non-null object\n",
      "education         38245 non-null object\n",
      "default           38245 non-null object\n",
      "housing           38245 non-null object\n",
      "loan              38245 non-null object\n",
      "contact           38245 non-null object\n",
      "month             38245 non-null object\n",
      "day_of_week       38245 non-null object\n",
      "duration          38245 non-null int64\n",
      "campaign          38245 non-null int64\n",
      "pdays             38245 non-null int64\n",
      "previous          38245 non-null int64\n",
      "poutcome          38245 non-null object\n",
      "emp.var.rate      38245 non-null float64\n",
      "cons.price.idx    38245 non-null float64\n",
      "cons.conf.idx     38245 non-null float64\n",
      "euribor3m         38245 non-null float64\n",
      "nr.employed       38245 non-null float64\n",
      "y                 38245 non-null object\n",
      "dtypes: float64(5), int64(6), object(11)\n",
      "memory usage: 6.7+ MB\n",
      "None\n"
     ]
    }
   ],
   "source": [
    "# # drop observations with missing data\n",
    "# data[\"poutcome\"]=data[\"poutcome\"].fillna(\"nonexistent\") # most value of \"poutcome\" are missing, keep them\n",
    "# data=data.dropna(how='any')\n",
    "\n",
    "### 若做 matrix completion 则\n",
    "data[\"poutcome\"]=data[\"poutcome\"].fillna(\"nonexistent\") # most value of \"poutcome\" are missing, keep them\n",
    "data[\"default\"]=data[\"default\"].fillna(\"nonexistent\") # most value of \"default\" are missing, keep them\n",
    "data=data.dropna(how='any')\n",
    "print data.info()\n",
    "# data[\"poutcome\"]=data[\"poutcome\"].fillna(\"nonexistent\") # most value of \"poutcome\" are missing, keep them\n",
    "# data[\"default\"]=data[\"default\"].fillna(\"nonexistent\") # most value of \"default\" are missing, keep them"
   ]
  },
  {
   "cell_type": "code",
   "execution_count": 133,
   "metadata": {},
   "outputs": [
    {
     "data": {
      "text/plain": [
       "'housemaid'"
      ]
     },
     "execution_count": 133,
     "metadata": {},
     "output_type": "execute_result"
    }
   ],
   "source": [
    "data[\"job\"][0]"
   ]
  },
  {
   "cell_type": "markdown",
   "metadata": {},
   "source": [
    "## corr plot"
   ]
  },
  {
   "cell_type": "code",
   "execution_count": 153,
   "metadata": {
    "collapsed": true,
    "scrolled": true
   },
   "outputs": [],
   "source": [
    "corr_graph = pd.read_csv(\"clean_data_corr.csv\",sep=\",\")"
   ]
  },
  {
   "cell_type": "code",
   "execution_count": 167,
   "metadata": {},
   "outputs": [
    {
     "data": {
      "image/png": "[encoded data removed]",
      "text/plain": [
       "<matplotlib.figure.Figure at 0xfadbfd0>"
      ]
     },
     "metadata": {},
     "output_type": "display_data"
    }
   ],
   "source": [
    "# plot correlation matrix\n",
    "fig = plt.figure(figsize=(6,6))\n",
    "ax = fig.add_subplot(111)\n",
    "cax = ax.matshow(corr_graph.corr(), vmin=-1, vmax=1)\n",
    "fig.colorbar(cax)\n",
    "ticks = np.arange(0,12,1)\n",
    "ax.set_xticks(ticks)\n",
    "ax.set_yticks(ticks)\n",
    "ax.set_xticklabels(corr_graph.columns.values,rotation=90)\n",
    "ax.set_yticklabels(corr_graph.columns.values) \n",
    "plt.show()"
   ]
  },
  {
   "cell_type": "markdown",
   "metadata": {},
   "source": [
    "## one-hot encode"
   ]
  },
  {
   "cell_type": "code",
   "execution_count": 170,
   "metadata": {
    "collapsed": true
   },
   "outputs": [],
   "source": [
    "#Pre Condition: One Hot encode\n",
    "def one_hot_encode(data,column_name,index_name):\n",
    "    n = data.shape[0] #length of columns \n",
    "    binary_data = pd.DataFrame() #new dataframe to store cleaned data\n",
    "    old_row = data[column_name]\n",
    "    UniqueVal=[]\n",
    "    for elem in old_row:       \n",
    "        if not elem in UniqueVal:\n",
    "            UniqueVal.append(elem)\n",
    "    #creates new columns out of entries of old column\n",
    "    for new_col in UniqueVal:        \n",
    "        #if new_col==\"nonexistent\":\n",
    "        if column_name==\"poutcome\":\n",
    "            #print (\"poutcome.\"+new_col)\n",
    "            if new_col==\"failure\":\n",
    "                continue\n",
    "            binary_data[\"poutcome.\"+new_col] = (old_row==new_col)+0.0\n",
    "        elif column_name==\"default\":\n",
    "            if new_col==\"no\":\n",
    "                continue\n",
    "            binary_data[\"default.\"+new_col] = (old_row==new_col)+0.0\n",
    "        else:\n",
    "            binary_data[new_col] = (old_row==new_col)+0.0\n",
    "    \n",
    "    binary_data[index_name]=data[index_name]\n",
    "    return binary_data\n",
    "\n",
    "def binary_encode(data, column_name,index_name): # name \"yes\" as \"1\"\n",
    "    n = data.shape[0] #length of columns \n",
    "    binary_data = pd.DataFrame() #new dataframe to store cleaned data\n",
    "    old_row = data[column_name]\n",
    "    UniqueVal=[\"yes\",\"no\"]\n",
    "    #creates new columns out of entries of old column\n",
    "    binary_data[column_name] = (old_row==\"yes\")+0.0\n",
    "    binary_data[index_name]=data[index_name]\n",
    "    return binary_data"
   ]
  },
  {
   "cell_type": "code",
   "execution_count": 171,
   "metadata": {
    "collapsed": true
   },
   "outputs": [],
   "source": [
    "#clean data\n",
    "# categorical_multi = [\"job\",\"marital\",\"education\",\"contact\",\"month\",\"day_of_week\",\"poutcome\"]\n",
    "# categorical_binary=[\"default\",\"housing\",\"loan\",\"y\"]\n",
    "# categorical_num=[\"ind\",\"age\",\"duration\",\"campaign\",\"previous\",\"emp.var.rate\",\"cons.price.idx\",\"cons.conf.idx\",\"euribor3m\",\"nr.employed\"]#,\"pdays\"\n",
    "# 若 matrix completion \n",
    "categorical_multi = [\"job\",\"marital\",\"education\",\"contact\",\"month\",\"day_of_week\",\"poutcome\",\"default\"]\n",
    "categorical_num=[\"ind\",\"age\",\"duration\",\"campaign\",\"previous\",\"emp.var.rate\",\"cons.price.idx\",\"cons.conf.idx\",\"euribor3m\",\"nr.employed\"]#,\"pdays\"\n",
    "categorical_binary=[\"housing\",\"loan\",\"y\"]\n",
    "\n",
    "flag=0\n",
    "for col in categorical_multi:\n",
    "    if flag==0:\n",
    "        clean_data= one_hot_encode(data,col,\"ind\")\n",
    "        flag+=1        \n",
    "    clean_data=pd.merge(clean_data,one_hot_encode(data,col,\"ind\"),how='left')\n",
    "    \n",
    "for col in categorical_binary:\n",
    "    clean_data=pd.merge(clean_data,binary_encode(data,col,\"ind\"),how='left')\n",
    "    \n",
    "for col in categorical_binary:\n",
    "    clean_data=pd.merge(clean_data,binary_encode(data,col,\"ind\"),how='left')\n",
    "                   \n",
    "clean_data=pd.merge(clean_data,data[categorical_num])\n",
    "\n",
    "\n",
    "##Add offset term\n",
    "offset = pd.DataFrame() #new dataframe to store offset\n",
    "offset[\"offset\"]=np.ones(len(clean_data[\"y\"]))\n",
    "offset[\"ind\"]=clean_data[\"ind\"]\n",
    "clean_data=pd.merge(clean_data,offset,how='left')\n",
    "\n",
    "clean_data.to_csv('clean_data.csv',index=False,sep=',')\n",
    "clean_data=clean_data.drop(\"ind\",axis=1)"
   ]
  },
  {
   "cell_type": "code",
   "execution_count": 172,
   "metadata": {},
   "outputs": [
    {
     "name": "stdout",
     "output_type": "stream",
     "text": [
      "(30596, 52)\n"
     ]
    }
   ],
   "source": [
    "## data for tree models(without normalization)\n",
    "data_DT=clean_data\n",
    "\n",
    "data_DT=data_DT.drop(\"offset\",axis=1)\n",
    "# ##Add offset term\n",
    "# offset = pd.DataFrame() #new dataframe to store offset\n",
    "# offset[\"offset\"]=np.ones(len(clean_data[\"y\"]))\n",
    "# offset[\"ind\"]=clean_data[\"ind\"]\n",
    "# clean_data=pd.merge(clean_data,offset,how='left')\n",
    "\n",
    "## divide dataset into traininng(0.8),testing set(0.2)\n",
    "\n",
    "testing_set,training_set= train_test_split(data_DT, test_size=0.8)\n",
    "y_testing_DT=testing_set[\"y\"]\n",
    "x_testing_DT=testing_set.drop(\"y\",axis=1)\n",
    "y_training_DT=training_set[\"y\"]\n",
    "x_training_DT=training_set.drop(\"y\",axis=1)\n",
    "#drop duration\n",
    "x_training_DT=x_training_DT.drop(\"duration\",axis=1)\n",
    "x_testing_DT=x_testing_DT.drop(\"duration\",axis=1)\n",
    "print x_training_DT.shape"
   ]
  },
  {
   "cell_type": "code",
   "execution_count": 173,
   "metadata": {
    "collapsed": true
   },
   "outputs": [],
   "source": [
    "# normalization\n",
    "categorical_num=[\"age\",\"duration\",\"campaign\",\"previous\",\"emp.var.rate\",\"cons.price.idx\",\"cons.conf.idx\",\"euribor3m\",\"nr.employed\"]#pdays\n",
    "for elem in categorical_num:\n",
    "    clean_data[elem]=(clean_data[elem]-clean_data[elem].mean())/clean_data[elem].std()"
   ]
  },
  {
   "cell_type": "code",
   "execution_count": 174,
   "metadata": {
    "collapsed": true
   },
   "outputs": [],
   "source": [
    "# Return cleaned data \n",
    "clean_data.to_csv(\"clean_data_norm.csv\", index=False)"
   ]
  },
  {
   "cell_type": "code",
   "execution_count": 175,
   "metadata": {
    "scrolled": true
   },
   "outputs": [
    {
     "name": "stdout",
     "output_type": "stream",
     "text": [
      "(30596, 53)\n"
     ]
    },
    {
     "data": {
      "text/html": [
       "<div>\n",
       "<style>\n",
       "    .dataframe thead tr:only-child th {\n",
       "        text-align: right;\n",
       "    }\n",
       "\n",
       "    .dataframe thead th {\n",
       "        text-align: left;\n",
       "    }\n",
       "\n",
       "    .dataframe tbody tr th {\n",
       "        vertical-align: top;\n",
       "    }\n",
       "</style>\n",
       "<table border=\"1\" class=\"dataframe\">\n",
       "  <thead>\n",
       "    <tr style=\"text-align: right;\">\n",
       "      <th></th>\n",
       "      <th>housemaid</th>\n",
       "      <th>services</th>\n",
       "      <th>admin.</th>\n",
       "      <th>technician</th>\n",
       "      <th>blue-collar</th>\n",
       "      <th>retired</th>\n",
       "      <th>management</th>\n",
       "      <th>unemployed</th>\n",
       "      <th>self-employed</th>\n",
       "      <th>entrepreneur</th>\n",
       "      <th>...</th>\n",
       "      <th>loan</th>\n",
       "      <th>age</th>\n",
       "      <th>campaign</th>\n",
       "      <th>previous</th>\n",
       "      <th>emp.var.rate</th>\n",
       "      <th>cons.price.idx</th>\n",
       "      <th>cons.conf.idx</th>\n",
       "      <th>euribor3m</th>\n",
       "      <th>nr.employed</th>\n",
       "      <th>offset</th>\n",
       "    </tr>\n",
       "  </thead>\n",
       "  <tbody>\n",
       "    <tr>\n",
       "      <th>15246</th>\n",
       "      <td>0.0</td>\n",
       "      <td>1.0</td>\n",
       "      <td>0.0</td>\n",
       "      <td>0.0</td>\n",
       "      <td>0.0</td>\n",
       "      <td>0.0</td>\n",
       "      <td>0.0</td>\n",
       "      <td>0.0</td>\n",
       "      <td>0.0</td>\n",
       "      <td>0.0</td>\n",
       "      <td>...</td>\n",
       "      <td>0.0</td>\n",
       "      <td>-1.541464</td>\n",
       "      <td>0.517923</td>\n",
       "      <td>-0.348973</td>\n",
       "      <td>0.841115</td>\n",
       "      <td>0.603239</td>\n",
       "      <td>-0.466957</td>\n",
       "      <td>0.774293</td>\n",
       "      <td>0.845417</td>\n",
       "      <td>1.0</td>\n",
       "    </tr>\n",
       "    <tr>\n",
       "      <th>32113</th>\n",
       "      <td>0.0</td>\n",
       "      <td>0.0</td>\n",
       "      <td>0.0</td>\n",
       "      <td>1.0</td>\n",
       "      <td>0.0</td>\n",
       "      <td>0.0</td>\n",
       "      <td>0.0</td>\n",
       "      <td>0.0</td>\n",
       "      <td>0.0</td>\n",
       "      <td>0.0</td>\n",
       "      <td>...</td>\n",
       "      <td>1.0</td>\n",
       "      <td>-1.249904</td>\n",
       "      <td>0.156582</td>\n",
       "      <td>-0.348973</td>\n",
       "      <td>-1.202380</td>\n",
       "      <td>-1.175143</td>\n",
       "      <td>-1.224008</td>\n",
       "      <td>-1.362422</td>\n",
       "      <td>-0.952233</td>\n",
       "      <td>1.0</td>\n",
       "    </tr>\n",
       "    <tr>\n",
       "      <th>26139</th>\n",
       "      <td>0.0</td>\n",
       "      <td>0.0</td>\n",
       "      <td>0.0</td>\n",
       "      <td>0.0</td>\n",
       "      <td>0.0</td>\n",
       "      <td>0.0</td>\n",
       "      <td>1.0</td>\n",
       "      <td>0.0</td>\n",
       "      <td>0.0</td>\n",
       "      <td>0.0</td>\n",
       "      <td>...</td>\n",
       "      <td>0.0</td>\n",
       "      <td>0.985387</td>\n",
       "      <td>1.240604</td>\n",
       "      <td>1.703701</td>\n",
       "      <td>-1.202380</td>\n",
       "      <td>-0.859372</td>\n",
       "      <td>-1.418679</td>\n",
       "      <td>-1.246830</td>\n",
       "      <td>-0.952233</td>\n",
       "      <td>1.0</td>\n",
       "    </tr>\n",
       "    <tr>\n",
       "      <th>5959</th>\n",
       "      <td>0.0</td>\n",
       "      <td>0.0</td>\n",
       "      <td>1.0</td>\n",
       "      <td>0.0</td>\n",
       "      <td>0.0</td>\n",
       "      <td>0.0</td>\n",
       "      <td>0.0</td>\n",
       "      <td>0.0</td>\n",
       "      <td>0.0</td>\n",
       "      <td>0.0</td>\n",
       "      <td>...</td>\n",
       "      <td>1.0</td>\n",
       "      <td>0.693827</td>\n",
       "      <td>-0.566098</td>\n",
       "      <td>-0.348973</td>\n",
       "      <td>0.649537</td>\n",
       "      <td>0.735099</td>\n",
       "      <td>0.895735</td>\n",
       "      <td>0.713029</td>\n",
       "      <td>0.328419</td>\n",
       "      <td>1.0</td>\n",
       "    </tr>\n",
       "    <tr>\n",
       "      <th>8164</th>\n",
       "      <td>0.0</td>\n",
       "      <td>0.0</td>\n",
       "      <td>0.0</td>\n",
       "      <td>0.0</td>\n",
       "      <td>0.0</td>\n",
       "      <td>0.0</td>\n",
       "      <td>0.0</td>\n",
       "      <td>0.0</td>\n",
       "      <td>0.0</td>\n",
       "      <td>1.0</td>\n",
       "      <td>...</td>\n",
       "      <td>0.0</td>\n",
       "      <td>-0.083665</td>\n",
       "      <td>-0.204758</td>\n",
       "      <td>-0.348973</td>\n",
       "      <td>0.841115</td>\n",
       "      <td>1.552288</td>\n",
       "      <td>-0.272287</td>\n",
       "      <td>0.718231</td>\n",
       "      <td>0.845417</td>\n",
       "      <td>1.0</td>\n",
       "    </tr>\n",
       "  </tbody>\n",
       "</table>\n",
       "<p>5 rows × 53 columns</p>\n",
       "</div>"
      ],
      "text/plain": [
       "       housemaid  services  admin.  technician  blue-collar  retired  \\\n",
       "15246        0.0       1.0     0.0         0.0          0.0      0.0   \n",
       "32113        0.0       0.0     0.0         1.0          0.0      0.0   \n",
       "26139        0.0       0.0     0.0         0.0          0.0      0.0   \n",
       "5959         0.0       0.0     1.0         0.0          0.0      0.0   \n",
       "8164         0.0       0.0     0.0         0.0          0.0      0.0   \n",
       "\n",
       "       management  unemployed  self-employed  entrepreneur   ...    loan  \\\n",
       "15246         0.0         0.0            0.0           0.0   ...     0.0   \n",
       "32113         0.0         0.0            0.0           0.0   ...     1.0   \n",
       "26139         1.0         0.0            0.0           0.0   ...     0.0   \n",
       "5959          0.0         0.0            0.0           0.0   ...     1.0   \n",
       "8164          0.0         0.0            0.0           1.0   ...     0.0   \n",
       "\n",
       "            age  campaign  previous  emp.var.rate  cons.price.idx  \\\n",
       "15246 -1.541464  0.517923 -0.348973      0.841115        0.603239   \n",
       "32113 -1.249904  0.156582 -0.348973     -1.202380       -1.175143   \n",
       "26139  0.985387  1.240604  1.703701     -1.202380       -0.859372   \n",
       "5959   0.693827 -0.566098 -0.348973      0.649537        0.735099   \n",
       "8164  -0.083665 -0.204758 -0.348973      0.841115        1.552288   \n",
       "\n",
       "       cons.conf.idx  euribor3m  nr.employed  offset  \n",
       "15246      -0.466957   0.774293     0.845417     1.0  \n",
       "32113      -1.224008  -1.362422    -0.952233     1.0  \n",
       "26139      -1.418679  -1.246830    -0.952233     1.0  \n",
       "5959        0.895735   0.713029     0.328419     1.0  \n",
       "8164       -0.272287   0.718231     0.845417     1.0  \n",
       "\n",
       "[5 rows x 53 columns]"
      ]
     },
     "execution_count": 175,
     "metadata": {},
     "output_type": "execute_result"
    }
   ],
   "source": [
    "## divide dataset into traininng(0.8),testing set(0.2)\n",
    "\n",
    "testing_set,training_set= train_test_split(clean_data, test_size=0.8)\n",
    "y_testing=testing_set[\"y\"]\n",
    "x_testing=testing_set.drop(\"y\",axis=1)\n",
    "y_training=training_set[\"y\"]\n",
    "x_training=training_set.drop(\"y\",axis=1)\n",
    "#drop duration\n",
    "x_training=x_training.drop(\"duration\",axis=1)\n",
    "x_testing=x_testing.drop(\"duration\",axis=1)\n",
    "print x_training.shape\n",
    "x_training.head()"
   ]
  },
  {
   "cell_type": "markdown",
   "metadata": {},
   "source": [
    "## Lasso (l2,l1)"
   ]
  },
  {
   "cell_type": "code",
   "execution_count": 260,
   "metadata": {},
   "outputs": [
    {
     "name": "stdout",
     "output_type": "stream",
     "text": [
      "Best_Lasso:\n",
      "Lambda= 0.1 \n",
      "accuracy= 0.0210317086137\n"
     ]
    }
   ],
   "source": [
    "# Fit lasso regression model\n",
    "from sklearn.model_selection import cross_val_score\n",
    "from sklearn import linear_model\n",
    "model_select=np.zeros((20,2))\n",
    "tmp=0\n",
    "lamda=0\n",
    "\n",
    "for i in np.linspace(1,20,20):\n",
    "    clf = linear_model.Lasso(alpha=i/10.0)#0.1-2.0\n",
    "    model_select[int(i-1),0]=i/10.0\n",
    "    model_select[int(i-1),1]=np.mean(cross_val_score(clf,x_training,y_training,cv=10))\n",
    "    if model_select[int(i-1),1]>tmp:\n",
    "        tmp= model_select[int(i-1),1]\n",
    "        lamda=i/10.0\n",
    "    \n",
    "print \"Best_Lasso:\\nLambda=\",lamda,\"\\naccuracy=\",tmp\n"
   ]
  },
  {
   "cell_type": "code",
   "execution_count": 261,
   "metadata": {},
   "outputs": [
    {
     "name": "stdout",
     "output_type": "stream",
     "text": [
      "[-0.         -0.          0.         -0.         -0.          0.          0.\n",
      "  0.         -0.         -0.          0.         -0.          0.         -0.\n",
      " -0.         -0.         -0.         -0.          0.          0.          0.\n",
      " -0.          0.         -0.         -0.         -0.         -0.          0.\n",
      " -0.          0.          0.          0.          0.         -0.          0.\n",
      "  0.          0.         -0.         -0.          0.         -0.         -0.\n",
      "  0.         -0.          0.         -0.          0.         -0.         -0.\n",
      "  0.         -0.         -0.01010648  0.        ]\n"
     ]
    }
   ],
   "source": [
    "clf = linear_model.Lasso(alpha=0.1)\n",
    "clf.fit(x_training,y_training)\n",
    "print(clf.coef_)"
   ]
  },
  {
   "cell_type": "code",
   "execution_count": 263,
   "metadata": {},
   "outputs": [
    {
     "data": {
      "text/plain": [
       "<matplotlib.text.Text at 0x234b6e48>"
      ]
     },
     "execution_count": 263,
     "metadata": {},
     "output_type": "execute_result"
    },
    {
     "data": {
      "image/png": "[encoded data removed]",
      "text/plain": [
       "<matplotlib.figure.Figure at 0x2cf3fda0>"
      ]
     },
     "metadata": {},
     "output_type": "display_data"
    }
   ],
   "source": [
    "## plot classification\n",
    "plt.plot(np.linspace(0,99,100),clf.predict(x_testing)[0:100],'o',label=\"prediction value\")\n",
    "plt.plot(np.linspace(0,99,100),y_testing[0:100],'*',label=\"true value\")\n",
    "plt.legend(loc=0)\n",
    "#,y_testing\n",
    "plt.title(\"Prediction (Lasso)\")\n",
    "plt.xlabel('index of points (selected 100 points)')\n",
    "plt.ylabel('classification')"
   ]
  },
  {
   "cell_type": "markdown",
   "metadata": {},
   "source": [
    "#### Lasso Model is not suitable to be applied on this dataset"
   ]
  },
  {
   "cell_type": "markdown",
   "metadata": {},
   "source": [
    "##  ridge regression l2,l2"
   ]
  },
  {
   "cell_type": "code",
   "execution_count": 184,
   "metadata": {},
   "outputs": [
    {
     "name": "stdout",
     "output_type": "stream",
     "text": [
      "('Training accuracy: ', 0.21166774950389744)\n",
      "0.5    0.208652936684\n",
      "1.5    0.208666731548\n",
      "2.5    0.2086759949\n",
      "3.5    0.208681458069\n",
      "4.5    0.208683688666\n",
      "5.5    0.208683140956\n",
      "6.5    0.208680181879\n",
      "7.5    0.208675111568\n",
      "8.5    0.208668178763\n",
      "9.5    0.208659592191\n",
      "Best_Logistic:\n",
      "Lambda= 4.5 \n",
      "accuracy= 0.208683688666\n"
     ]
    }
   ],
   "source": [
    "model_ridge = linear_model.Ridge(alpha=1)\n",
    "model_ridge.fit(x_training, y_training)\n",
    "model_ridge.coef_\n",
    "print(\"Training accuracy: \", model_ridge.score(x_training, y_training))\n",
    "\n",
    "\n",
    "model_select=np.zeros((20,2))\n",
    "tmp=0\n",
    "lamda=0\n",
    "j=0\n",
    "for i in np.linspace(0.5,9.5,10):\n",
    "    clf = linear_model.Ridge(alpha=i)#0.5-5.0\n",
    "    model_select[int(j),0]=i\n",
    "    model_select[int(j),1]=np.mean(cross_val_score(clf,x_training,y_training,cv=10))\n",
    "    if model_select[int(j),1]>tmp:\n",
    "        tmp= model_select[int(j),1]\n",
    "        lamda=i    \n",
    "    print i,'  ',model_select[int(j),1]\n",
    "    j+=1\n",
    "print \"Best_ridge:\\nLambda=\",lamda,\"\\naccuracy=\",tmp\n"
   ]
  },
  {
   "cell_type": "code",
   "execution_count": 224,
   "metadata": {},
   "outputs": [
    {
     "name": "stdout",
     "output_type": "stream",
     "text": [
      "Training Accuracy: 0.2116430714\n",
      "Coefficients: [ -1.02371023e-02  -1.14062027e-02   2.43136316e-04   1.53272381e-03\n",
      "  -9.81795126e-03   2.80883622e-02  -5.08196167e-03  -1.35677303e-02\n",
      "  -6.59561460e-04  -4.69159581e-03   2.55978833e-02  -1.90069284e-05\n",
      "   4.41798146e-03  -4.39897453e-03  -2.13768915e-02  -1.87373998e-02\n",
      "  -1.21429774e-02  -2.57023449e-02  -1.96116468e-02  -1.36206338e-02\n",
      "   1.11191894e-01  -3.62943978e-02   3.62943978e-02  -7.48067082e-02\n",
      "  -1.19152248e-01  -1.34030901e-02   5.72662496e-02  -4.40795075e-03\n",
      "  -7.57467675e-02   5.04362411e-02   2.33873161e-01  -4.73947251e-02\n",
      "  -6.66416248e-03  -1.76008728e-02  -7.77993494e-05   1.03443154e-02\n",
      "   5.69233746e-03   1.64201929e-03   4.10500074e-02   3.57435727e-01\n",
      "  -1.37551742e-02  -1.64503950e-02  -3.14261739e-03   5.53605798e-04\n",
      "   1.06509997e-03  -5.58820512e-03  -6.33743848e-03  -3.22296731e-01\n",
      "   1.61875439e-01   2.19304179e-02   1.05873831e-01   1.91228627e-02\n",
      "   0.00000000e+00]\n",
      "['housemaid' 'services' 'admin.' 'technician' 'blue-collar' 'retired'\n",
      " 'management' 'unemployed' 'self-employed' 'entrepreneur' 'student'\n",
      " 'married' 'single' 'divorced' 'basic.4y' 'high.school' 'basic.6y'\n",
      " 'basic.9y' 'professional.course' 'university.degree' 'illiterate'\n",
      " 'telephone' 'cellular' 'may' 'jun' 'jul' 'aug' 'oct' 'nov' 'dec' 'mar'\n",
      " 'apr' 'sep' 'mon' 'tue' 'wed' 'thu' 'fri' 'poutcome.nonexistent'\n",
      " 'poutcome.success' 'default.nonexistent' 'default.yes' 'housing' 'loan'\n",
      " 'age' 'campaign' 'previous' 'emp.var.rate' 'cons.price.idx'\n",
      " 'cons.conf.idx' 'euribor3m' 'nr.employed' 'offset']\n",
      "('Testing accuracy: ', 0.19727243815172368)\n"
     ]
    }
   ],
   "source": [
    "model_ridge = linear_model.Ridge(alpha=4.5)\n",
    "model_ridge.fit(x_training, y_training)\n",
    "print \"Training Accuracy:\", model_ridge.score(x_training, y_training)\n",
    "print \"Coefficients:\", model_ridge.coef_\n",
    "print x_training.columns.values\n",
    "# test the model\n",
    "model_ridge.predict(x_testing)\n",
    "#print [np.copy(y_testing),model.predict(x_testing_ed)]\n",
    "print(\"Testing accuracy: \", model_ridge.score(x_testing, y_testing))\n",
    "\n"
   ]
  },
  {
   "cell_type": "code",
   "execution_count": 229,
   "metadata": {},
   "outputs": [
    {
     "data": {
      "text/plain": [
       "<matplotlib.text.Text at 0x23065898>"
      ]
     },
     "execution_count": 229,
     "metadata": {},
     "output_type": "execute_result"
    },
    {
     "data": {
      "image/png": "[encoded data removed]",
      "text/plain": [
       "<matplotlib.figure.Figure at 0x230724a8>"
      ]
     },
     "metadata": {},
     "output_type": "display_data"
    }
   ],
   "source": [
    "## plot classification\n",
    "plt.plot(np.linspace(0,99,100),model_ridge.predict(x_testing)[0:100],'o',label=\"prediction value\")\n",
    "plt.plot(np.linspace(0,99,100),y_testing[0:100],'*',label=\"true value\")\n",
    "plt.legend(loc=0)\n",
    "#,y_testing\n",
    "plt.title(\"Prediction (ridge)\")\n",
    "plt.xlabel('index of points (selected 100 points)')\n",
    "plt.ylabel('classification')"
   ]
  },
  {
   "cell_type": "markdown",
   "metadata": {},
   "source": [
    "# Fit logistic regression model (logistic,l1)"
   ]
  },
  {
   "cell_type": "markdown",
   "metadata": {},
   "source": [
    "###### Fit logistic regression model\n",
    "model = LogisticRegression(penalty='l1', C=1, multi_class='ovr')\n",
    "model.fit(x_training, y_training)\n",
    "print(\"Training accuracy: \", model.score(x_training, y_training))\n",
    "model_select=np.zeros((20,2))\n",
    "tmp=0\n",
    "lamda=0\n",
    "j=0\n",
    "for i in np.linspace(0.5,3,6):\n",
    "    clf = LogisticRegression(penalty='l1', C=i, multi_class='ovr')#0-3.0\n",
    "    model_select[int(j),0]=i\n",
    "    model_select[int(j),1]=np.mean(cross_val_score(clf,x_training,y_training,cv=10))\n",
    "    if model_select[int(j),1]>tmp:\n",
    "        tmp= model_select[int(j),1]\n",
    "        lamda=i    \n",
    "    print i,'  ',model_select[int(j),1]\n",
    "    j+=1\n",
    "print \"Best_Logistic:\\nLambda=\",lamda,\"\\naccuracy=\",tmp"
   ]
  },
  {
   "cell_type": "code",
   "execution_count": 203,
   "metadata": {},
   "outputs": [
    {
     "data": {
      "text/plain": [
       "<matplotlib.text.Text at 0xfabef28>"
      ]
     },
     "execution_count": 203,
     "metadata": {},
     "output_type": "execute_result"
    },
    {
     "data": {
      "image/png": "[encoded data removed]",
      "text/plain": [
       "<matplotlib.figure.Figure at 0xf448ef0>"
      ]
     },
     "metadata": {},
     "output_type": "display_data"
    }
   ],
   "source": [
    "## cross validation (choose lambda)\n",
    "plt.plot(model_select[0:6,0],model_select[0:6,1])\n",
    "plt.title(\"Cross Validation of Logistic\")\n",
    "plt.xlabel('lambda')\n",
    "plt.ylabel('accuracy')"
   ]
  },
  {
   "cell_type": "code",
   "execution_count": 268,
   "metadata": {},
   "outputs": [
    {
     "name": "stdout",
     "output_type": "stream",
     "text": [
      "Coefficients: [[-0.08197361 -0.13975649  0.02172812  0.02768696 -0.12740466  0.25810148\n",
      "  -0.02704632 -0.11606249  0.         -0.02952481  0.18610773 -0.04425631\n",
      "   0.         -0.10218555 -0.10746855 -0.05176064  0.0364847  -0.16247781\n",
      "  -0.05127713  0.          0.79979205 -0.76142797  0.         -0.5098208\n",
      "  -0.79535761 -0.08554916  0.29154253  0.         -0.60394419  0.19945122\n",
      "   1.36023023 -0.18919623  0.07166533 -0.26906084 -0.05988012  0.07122678\n",
      "   0.         -0.04214043  0.42980709  1.82472685 -0.26276737  0.\n",
      "  -0.04704455  0.          0.00472691 -0.1224928  -0.02918578 -2.29590202\n",
      "   1.20299583  0.14279844  0.32722472  0.47156075 -1.18026295]]\n",
      "['housemaid' 'services' 'admin.' 'technician' 'blue-collar' 'retired'\n",
      " 'management' 'unemployed' 'self-employed' 'entrepreneur' 'student'\n",
      " 'married' 'single' 'divorced' 'basic.4y' 'high.school' 'basic.6y'\n",
      " 'basic.9y' 'professional.course' 'university.degree' 'illiterate'\n",
      " 'telephone' 'cellular' 'may' 'jun' 'jul' 'aug' 'oct' 'nov' 'dec' 'mar'\n",
      " 'apr' 'sep' 'mon' 'tue' 'wed' 'thu' 'fri' 'poutcome.nonexistent'\n",
      " 'poutcome.success' 'default.nonexistent' 'default.yes' 'housing' 'loan'\n",
      " 'age' 'campaign' 'previous' 'emp.var.rate' 'cons.price.idx'\n",
      " 'cons.conf.idx' 'euribor3m' 'nr.employed' 'offset']\n",
      "('Training accuracy: ', 0.90149039090077132)\n"
     ]
    }
   ],
   "source": [
    "#  Logistic Regression Model (find unefficient features)\n",
    "model = LogisticRegression(penalty='l1', C=1, multi_class='ovr')\n",
    "model.fit(x_training, y_training)\n",
    "print \"Coefficients:\", model.coef_\n",
    "print x_training.columns.values\n",
    "print(\"Training accuracy: \", model.score(x_training, y_training))"
   ]
  },
  {
   "cell_type": "markdown",
   "metadata": {},
   "source": [
    "According to the result from best Logistic Model, some features are of low correlation with classification. Thus, we prefer to remove them form the model, Such as 'loan' and so on. Though the coefficents of some of dummy variables (first 41 features in the list) are also 0, we cannot remove them, because they are generated by one-hot encoding."
   ]
  },
  {
   "cell_type": "code",
   "execution_count": 212,
   "metadata": {},
   "outputs": [
    {
     "name": "stdout",
     "output_type": "stream",
     "text": [
      "Training Accuracy: 0.901392338868\n",
      "Coefficients: [[-0.05013891 -0.12234969  0.03421606  0.03465708 -0.11097961  0.26948635\n",
      "  -0.00750776 -0.08909387  0.          0.          0.1893471  -0.04253681\n",
      "   0.         -0.09742851 -0.10445239 -0.04995784  0.02542936 -0.15907323\n",
      "  -0.04453742  0.          0.1550671  -0.73075014  0.         -0.48268155\n",
      "  -0.64905425 -0.01516293  0.28270522  0.         -0.56148867  0.16364967\n",
      "   1.32766497 -0.1262247   0.01585395 -0.26591893 -0.05702418  0.06936571\n",
      "   0.         -0.03681405  0.41589455  1.81120097 -0.25971385  0.\n",
      "  -0.04649342  0.0044729  -0.12179254 -0.03027071 -2.09539885  1.06876612\n",
      "   0.12990282  0.37907375  0.2966676  -0.51689204]]\n",
      "['housemaid' 'services' 'admin.' 'technician' 'blue-collar' 'retired'\n",
      " 'management' 'unemployed' 'self-employed' 'entrepreneur' 'student'\n",
      " 'married' 'single' 'divorced' 'basic.4y' 'high.school' 'basic.6y'\n",
      " 'basic.9y' 'professional.course' 'university.degree' 'illiterate'\n",
      " 'telephone' 'cellular' 'may' 'jun' 'jul' 'aug' 'oct' 'nov' 'dec' 'mar'\n",
      " 'apr' 'sep' 'mon' 'tue' 'wed' 'thu' 'fri' 'poutcome.nonexistent'\n",
      " 'poutcome.success' 'default.nonexistent' 'default.yes' 'housing' 'age'\n",
      " 'campaign' 'previous' 'emp.var.rate' 'cons.price.idx' 'cons.conf.idx'\n",
      " 'euribor3m' 'nr.employed' 'offset']\n",
      "[array([ 0.,  1.,  0., ...,  1.,  0.,  0.]), array([ 0.,  0.,  0., ...,  0.,  0.,  0.])]\n",
      "('Testing accuracy: ', 0.89789514969277029)\n"
     ]
    }
   ],
   "source": [
    "# Test Logistic Regression Model (drop 'euribor3m', 'nr.employed',...)\n",
    "#x_training_ed=x_training.drop([\"euribor3m\",\"nr.employed\",\"loan\", 'age','default'],axis=1)\n",
    "x_training_ed=x_training.drop(\"loan\",axis=1)\n",
    "model = LogisticRegression(penalty='l1', C=0.5, multi_class='ovr')\n",
    "model.fit(x_training_ed, y_training)\n",
    "print \"Training Accuracy:\", model.score(x_training_ed, y_training)\n",
    "print \"Coefficients:\", model.coef_\n",
    "print x_training_ed.columns.values\n",
    "# test the model\n",
    "x_testing_ed=x_testing.drop([\"loan\"],axis=1)\n",
    "model.predict(x_testing_ed)\n",
    "print [np.copy(y_testing),model.predict(x_testing_ed)]\n",
    "print(\"Testing accuracy: \", model.score(x_testing_ed, y_testing))"
   ]
  },
  {
   "cell_type": "code",
   "execution_count": 223,
   "metadata": {
    "scrolled": true
   },
   "outputs": [
    {
     "data": {
      "text/plain": [
       "<matplotlib.text.Text at 0x10b65b38>"
      ]
     },
     "execution_count": 223,
     "metadata": {},
     "output_type": "execute_result"
    },
    {
     "data": {
      "image/png": "[encoded data removed]",
      "text/plain": [
       "<matplotlib.figure.Figure at 0x11bcfe10>"
      ]
     },
     "metadata": {},
     "output_type": "display_data"
    }
   ],
   "source": [
    "## plot classification\n",
    "plt.plot(np.linspace(0,99,100),model.predict(x_testing_ed)[0:100],'o',label=\"prediction value\")\n",
    "plt.plot(np.linspace(0,99,100),y_testing[0:100],'*',label=\"true value\")\n",
    "plt.legend(loc=\"right\")\n",
    "#,y_testing\n",
    "plt.title(\"Prediction Logistic\")\n",
    "plt.xlabel('index of points (selected 100 points)')\n",
    "plt.ylabel('classification')"
   ]
  },
  {
   "cell_type": "markdown",
   "metadata": {},
   "source": [
    "Though we discard some of the features and fit the model again, the accuracy of the model is stable (testing accuracy is 0.90), which justifies our revision."
   ]
  },
  {
   "cell_type": "markdown",
   "metadata": {},
   "source": [
    "## SVM"
   ]
  },
  {
   "cell_type": "code",
   "execution_count": 192,
   "metadata": {
    "collapsed": true
   },
   "outputs": [],
   "source": [
    "# SVM cross-validation\n",
    "from sklearn import svm\n",
    "model_select=np.zeros((6,2))\n",
    "tmp=0\n",
    "lamda=0\n",
    "j=0\n",
    "for i in np.linspace(0.5,3,6):\n",
    "    clf = svm.SVC(kernel='linear', C=i)#choose penalty parameter within 0.1-3.0\n",
    "    model_select[j,0]=i\n",
    "    model_select[j,1]=np.mean(cross_val_score(clf,x_training,y_training,cv=3))\n",
    "    if model_select[j,1]>tmp:\n",
    "        tmp= model_select[j,1]\n",
    "        lamda=i\n",
    "    print i,'  ',model_select[j,1]\n",
    "    j=j+1\n",
    "print \"Best_SVM:\\nLambda=\",lamda,\"\\naccuracy=\",tmp\n"
   ]
  },
  {
   "cell_type": "code",
   "execution_count": 264,
   "metadata": {},
   "outputs": [
    {
     "name": "stdout",
     "output_type": "stream",
     "text": [
      "('training accuracy: ', 0.89913714211007978)\n",
      "('Testing accuracy: ', 0.89423454046280559)\n"
     ]
    }
   ],
   "source": [
    "# Test SVM Model\n",
    "model = svm.SVC(kernel='linear', C=0.5)\n",
    "model.fit(x_training, y_training)\n",
    "print(\"training accuracy: \", model.score(x_training, y_training))\n",
    "print(\"Testing accuracy: \", model.score(x_testing, y_testing))"
   ]
  },
  {
   "cell_type": "code",
   "execution_count": 233,
   "metadata": {},
   "outputs": [
    {
     "data": {
      "text/plain": [
       "<matplotlib.text.Text at 0x28407400>"
      ]
     },
     "execution_count": 233,
     "metadata": {},
     "output_type": "execute_result"
    },
    {
     "data": {
      "image/png": "[encoded data removed]",
      "text/plain": [
       "<matplotlib.figure.Figure at 0x104dd358>"
      ]
     },
     "metadata": {},
     "output_type": "display_data"
    }
   ],
   "source": [
    "## plot classification\n",
    "plt.plot(np.linspace(0,99,100),model.predict(x_testing)[0:100],'o',label=\"prediction value\")\n",
    "plt.plot(np.linspace(0,99,100),y_testing[0:100],'*',label=\"true value\")\n",
    "plt.legend(loc=0)\n",
    "#,y_testing\n",
    "plt.title(\"Prediction (SVM)\")\n",
    "plt.xlabel('index of points (selected 100 points)')\n",
    "plt.ylabel('classification')"
   ]
  },
  {
   "cell_type": "markdown",
   "metadata": {},
   "source": [
    "## single decision tree"
   ]
  },
  {
   "cell_type": "code",
   "execution_count": 244,
   "metadata": {},
   "outputs": [
    {
     "name": "stdout",
     "output_type": "stream",
     "text": [
      "5.0    0.904039743757    0.0\n",
      "6.0    0.905216368153    0.00117662439535\n",
      "7.0    0.906981304746    0.00176493659302\n",
      "8.0    0.909661393646    0.00268008890051\n",
      "9.0    0.913485422931    0.00382402928487\n",
      "10.0    0.917570924304    0.00408550137273\n",
      "11.0    0.921983265786    0.00441234148255\n",
      "12.0    0.926983919467    0.00500065368022\n",
      "13.0    0.931951889136    0.00496796966924\n",
      "14.0    0.936723754739    0.00477186560335\n",
      "15.0    0.942606876716    0.00588312197673\n",
      "16.0    0.947542162374    0.00493528565826\n",
      "17.0    0.95440580468    0.00686364230618\n",
      "18.0    0.960256242646    0.00585043796575\n",
      "19.0    0.966400836711    0.00614459406458\n",
      "20.0    0.972480062753    0.00607922604262\n",
      "Best_DT:\n",
      "max_depth= 20.0 \n",
      "accuracy= 0.972480062753\n"
     ]
    }
   ],
   "source": [
    "# Fit a single decision tree\n",
    "model_select=np.zeros((16,3))\n",
    "tmp=0\n",
    "lamda=0\n",
    "j=0\n",
    "for i in np.linspace(5,20,16):#check max depth from 5-20\n",
    "    model = DecisionTreeClassifier(max_features=None, max_depth=int(i))#0.1-2.0\n",
    "    model.fit(x_training_DT, y_training_DT)\n",
    "    model_select[j,0]=int(i)\n",
    "    model_select[j,1]=model.score(x_training_DT, y_training_DT)\n",
    "    if j>0:\n",
    "        model_select[j,2]=model_select[j,1]-model_select[j-1,1]\n",
    "    if model_select[j,1]>tmp:\n",
    "        tmp= model_select[j,1]\n",
    "        max_depth=i\n",
    "    print i,'  ',model_select[j,1],'  ',model_select[j,2]\n",
    "    j+=1      \n",
    "        \n",
    "print \"Best_DT:\\nmax_depth=\",max_depth,\"\\naccuracy=\",tmp"
   ]
  },
  {
   "cell_type": "code",
   "execution_count": 265,
   "metadata": {},
   "outputs": [
    {
     "name": "stdout",
     "output_type": "stream",
     "text": [
      "('training accuracy: ', 0.95450385671329585)\n",
      "('Testing accuracy: ', 0.87593149431298212)\n"
     ]
    }
   ],
   "source": [
    "# Test DT Model\n",
    "model = DecisionTreeClassifier(max_features=None, max_depth=17)\n",
    "model.fit(x_training_DT, y_training_DT)\n",
    "print(\"training accuracy: \", model.score(x_training_DT, y_training_DT))\n",
    "print(\"Testing accuracy: \", model.score(x_testing_DT, y_testing_DT))"
   ]
  },
  {
   "cell_type": "code",
   "execution_count": 250,
   "metadata": {},
   "outputs": [
    {
     "data": {
      "text/plain": [
       "<matplotlib.text.Text at 0x1f29edd8>"
      ]
     },
     "execution_count": 250,
     "metadata": {},
     "output_type": "execute_result"
    },
    {
     "data": {
      "image/png": "[encoded data removed]",
      "text/plain": [
       "<matplotlib.figure.Figure at 0x22aa2550>"
      ]
     },
     "metadata": {},
     "output_type": "display_data"
    }
   ],
   "source": [
    "## plot classification\n",
    "plt.plot(np.linspace(0,99,100),model.predict(x_testing_DT)[0:100],'o',label=\"prediction value\")\n",
    "plt.plot(np.linspace(0,99,100),y_testing_DT[0:100],'*',label=\"true value\")\n",
    "plt.legend(loc=0)\n",
    "#,y_testing\n",
    "plt.title(\"Prediction (decision tree)\")\n",
    "plt.xlabel('index of points (selected 100 points)')\n",
    "plt.ylabel('classification')"
   ]
  },
  {
   "cell_type": "markdown",
   "metadata": {},
   "source": [
    "### plot decision tree"
   ]
  },
  {
   "cell_type": "code",
   "execution_count": null,
   "metadata": {
    "collapsed": true
   },
   "outputs": [],
   "source": [
    "model_DT = DecisionTreeClassifier(max_features=None, max_depth=5)\n",
    "model_DT.fit(x_training_DT, y_training_DT)\n",
    "print(\"Training accuracy: \", model_DT.score(x_training_DT, y_training_DT))\n",
    "print(\"Testing accuracy: \", model_DT.score(x_testing_DT, y_testing_DT))\n",
    "\n",
    "\n",
    "from IPython.display import Image \n",
    "import graphviz \n",
    "from sklearn import tree\n",
    "Feature_names=['housemaid','services','admin.','technician','blue-collar','unemployed','retired','entrepreneur','management','student','self-employed','married','single','divorced','basic.4y','high.school','basic.6y'\n",
    ",'professional.course','basic.9y','university.degree','illiterate','telephone','cellular','may','jun','jul','aug','oct','nov','dec','mar','apr','sep','mon','tue','wed','thu','fri','poutcome.nonexistent','failure'\n",
    ",'success','default','housing','loan','age','campaign','previous','emp.var.rate','cons.price.idx','cons.conf.idx','euribor3m','nr.employed']\n",
    "Class_names=['0','1']\n",
    "dot_data = tree.export_graphviz(model_DT, out_file=None,feature_names=Feature_names,class_names=Class_names,filled=True, rounded=True,special_characters=True)  \n",
    "graph = graphviz.Source(dot_data)  \n",
    "graph"
   ]
  },
  {
   "cell_type": "code",
   "execution_count": 76,
   "metadata": {},
   "outputs": [
    {
     "name": "stdout",
     "output_type": "stream",
     "text": [
      "('Training accuracy: ', 0.97015292525931696)\n",
      "('Testing accuracy: ', 0.84320157454485811)\n"
     ]
    }
   ],
   "source": [
    "model_DT = DecisionTreeClassifier(max_features=None, max_depth=17)\n",
    "model_DT.fit(x_training_DT, y_training_DT)\n",
    "print(\"Training accuracy: \", model_DT.score(x_training_DT, y_training_DT))\n",
    "print(\"Testing accuracy: \", model_DT.score(x_testing_DT, y_testing_DT))\n"
   ]
  },
  {
   "cell_type": "code",
   "execution_count": 223,
   "metadata": {},
   "outputs": [
    {
     "name": "stdout",
     "output_type": "stream",
     "text": [
      "('Training accuracy: ', 0.99967202361429974)\n"
     ]
    }
   ],
   "source": [
    "base_model = DecisionTreeClassifier(max_features=None, max_depth=20)\n",
    "model = BaggingClassifier(base_estimator=base_model, n_estimators=50)\n",
    "model.fit(x_training, y_training)\n",
    "print(\"Training accuracy: \", model.score(x_training, y_training))\n"
   ]
  },
  {
   "cell_type": "markdown",
   "metadata": {},
   "source": [
    "# Random Forest"
   ]
  },
  {
   "cell_type": "code",
   "execution_count": 256,
   "metadata": {},
   "outputs": [
    {
     "name": "stdout",
     "output_type": "stream",
     "text": [
      "5.0    0.900705974637    0.0\n",
      "6.0    0.902405543208    0.00169956857106\n",
      "7.0    0.905641260295    0.0032357170872\n",
      "8.0    0.907569616943    0.00192835664793\n",
      "9.0    0.911524382272    0.0039547653288\n",
      "10.0    0.915511831612    0.00398744933978\n",
      "11.0    0.920251013204    0.00473918159236\n",
      "12.0    0.923878938423    0.00362792521898\n",
      "13.0    0.930513792653    0.00663485422931\n",
      "14.0    0.932278729246    0.00176493659302\n",
      "15.0    0.935939338476    0.00366060922996\n",
      "16.0    0.940874624134    0.00493528565826\n",
      "17.0    0.946006013858    0.00513138972415\n",
      "18.0    0.947803634462    0.001797620604\n",
      "19.0    0.954013596549    0.00620996208655\n",
      "20.0    0.958981566218    0.00496796966924\n",
      "Best_DT:\n",
      "max_depth= 13.0 \n",
      "accuracy= 0.930513792653\n"
     ]
    }
   ],
   "source": [
    "# Fit a single decision tree\n",
    "model_select=np.zeros((16,3))\n",
    "tmp=0\n",
    "lamda=0\n",
    "acc=0\n",
    "j=0\n",
    "for i in np.linspace(5,20,16):#check max depth from 5-20\n",
    "    model = RandomForestClassifier(n_estimators=10, max_depth=i, max_features='auto')#0.1-2.0\n",
    "    model.fit(x_training_DT, y_training_DT)\n",
    "    model_select[j,0]=int(i)\n",
    "    model_select[j,1]=model.score(x_training_DT, y_training_DT)\n",
    "    if j>0:\n",
    "        model_select[j,2]=model_select[j,1]-model_select[j-1,1]\n",
    "    if model_select[j,2]>tmp:\n",
    "        tmp= model_select[j,2]\n",
    "        acc=model_select[j,1]\n",
    "        max_depth=i\n",
    "    print i,'  ',model_select[j,1],'  ',model_select[j,2]\n",
    "    j+=1      \n",
    "        \n",
    "print \"Best_DT:\\nmax_depth=\",max_depth,\"\\naccuracy=\",acc"
   ]
  },
  {
   "cell_type": "code",
   "execution_count": 257,
   "metadata": {},
   "outputs": [
    {
     "name": "stdout",
     "output_type": "stream",
     "text": [
      "('Training accuracy: ', 0.92838933193881557)\n",
      "('Testing accuracy: ', 0.89920251013204344)\n"
     ]
    }
   ],
   "source": [
    "# Fit random forest\n",
    "modelrf = RandomForestClassifier(n_estimators=10, max_depth=13, max_features='auto')\n",
    "modelrf.fit(x_training_DT, y_training_DT)\n",
    "print(\"Training accuracy: \", modelrf.score(x_training_DT, y_training_DT))\n",
    "print(\"Testing accuracy: \", modelrf.score(x_testing_DT, y_testing_DT))"
   ]
  },
  {
   "cell_type": "code",
   "execution_count": 259,
   "metadata": {},
   "outputs": [
    {
     "data": {
      "text/plain": [
       "<matplotlib.text.Text at 0x2d356cc0>"
      ]
     },
     "execution_count": 259,
     "metadata": {},
     "output_type": "execute_result"
    },
    {
     "data": {
      "image/png": "[encoded data removed]",
      "text/plain": [
       "<matplotlib.figure.Figure at 0x1f275160>"
      ]
     },
     "metadata": {},
     "output_type": "display_data"
    }
   ],
   "source": [
    "## plot classification\n",
    "plt.plot(np.linspace(0,99,100),modelrf.predict(x_testing_DT)[0:100],'o',label=\"prediction value\")\n",
    "plt.plot(np.linspace(0,99,100),y_testing_DT[0:100],'*',label=\"true value\")\n",
    "plt.legend(loc=0)\n",
    "#,y_testing\n",
    "plt.title(\"Prediction (random forest)\")\n",
    "plt.xlabel('index of points (selected 100 points)')\n",
    "plt.ylabel('classification')"
   ]
  },
  {
   "cell_type": "code",
   "execution_count": 66,
   "metadata": {},
   "outputs": [
    {
     "name": "stdout",
     "output_type": "stream",
     "text": [
      "('Training accuracy: ', 0.99401418556024768)\n",
      "('Testing accuracy: ', 0.84812202722650487)\n"
     ]
    }
   ],
   "source": [
    "# Fit boosted model\n",
    "base_model = DecisionTreeClassifier(max_features='auto', max_depth=30)\n",
    "#base_model = LogisticRegression(penalty='l2', C=10, multi_class='ovr')\n",
    "model = AdaBoostClassifier(base_estimator=base_model, n_estimators=10)\n",
    "model.fit(x_training_DT, y_training_DT)\n",
    "print(\"Training accuracy: \", model.score(x_training_DT, y_training_DT))\n",
    "print(\"Testing accuracy: \", model.score(x_testing_DT, y_testing_DT))"
   ]
  }
 ],
 "metadata": {
  "kernelspec": {
   "display_name": "Python 2",
   "language": "python",
   "name": "python2"
  },
  "language_info": {
   "codemirror_mode": {
    "name": "ipython",
    "version": 2
   },
   "file_extension": ".py",
   "mimetype": "text/x-python",
   "name": "python",
   "nbconvert_exporter": "python",
   "pygments_lexer": "ipython2",
   "version": "2.7.13"
  }
 },
 "nbformat": 4,
 "nbformat_minor": 2
}
