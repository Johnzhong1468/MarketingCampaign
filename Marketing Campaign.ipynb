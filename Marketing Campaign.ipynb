{
 "cells": [
  {
   "cell_type": "code",
   "execution_count": 20,
   "metadata": {
    "collapsed": false
   },
   "outputs": [],
   "source": [
    "using DataFrames, Gadfly, PyPlot"
   ]
  },
  {
   "cell_type": "code",
   "execution_count": 12,
   "metadata": {
    "collapsed": false
   },
   "outputs": [
    {
     "data": {
      "text/html": [
       "<table class=\"data-frame\"><thead><tr><th></th><th>age</th><th>job</th><th>marital</th><th>education</th><th>default</th><th>housing</th><th>loan</th><th>contact</th><th>month</th><th>day_of_week</th><th>duration</th><th>campaign</th><th>pdays</th><th>previous</th><th>poutcome</th><th>emp_var_rate</th><th>cons_price_idx</th><th>cons_conf_idx</th><th>euribor3m</th><th>nr_employed</th><th>y</th></tr></thead><tbody><tr><th>1</th><td>56</td><td>housemaid</td><td>married</td><td>basic.4y</td><td>no</td><td>no</td><td>no</td><td>telephone</td><td>may</td><td>mon</td><td>261</td><td>1</td><td>999</td><td>0</td><td>nonexistent</td><td>1.1</td><td>93.994</td><td>-36.4</td><td>4.857</td><td>5191.0</td><td>no</td></tr><tr><th>2</th><td>57</td><td>services</td><td>married</td><td>high.school</td><td>unknown</td><td>no</td><td>no</td><td>telephone</td><td>may</td><td>mon</td><td>149</td><td>1</td><td>999</td><td>0</td><td>nonexistent</td><td>1.1</td><td>93.994</td><td>-36.4</td><td>4.857</td><td>5191.0</td><td>no</td></tr><tr><th>3</th><td>37</td><td>services</td><td>married</td><td>high.school</td><td>no</td><td>yes</td><td>no</td><td>telephone</td><td>may</td><td>mon</td><td>226</td><td>1</td><td>999</td><td>0</td><td>nonexistent</td><td>1.1</td><td>93.994</td><td>-36.4</td><td>4.857</td><td>5191.0</td><td>no</td></tr><tr><th>4</th><td>40</td><td>admin.</td><td>married</td><td>basic.6y</td><td>no</td><td>no</td><td>no</td><td>telephone</td><td>may</td><td>mon</td><td>151</td><td>1</td><td>999</td><td>0</td><td>nonexistent</td><td>1.1</td><td>93.994</td><td>-36.4</td><td>4.857</td><td>5191.0</td><td>no</td></tr><tr><th>5</th><td>56</td><td>services</td><td>married</td><td>high.school</td><td>no</td><td>no</td><td>yes</td><td>telephone</td><td>may</td><td>mon</td><td>307</td><td>1</td><td>999</td><td>0</td><td>nonexistent</td><td>1.1</td><td>93.994</td><td>-36.4</td><td>4.857</td><td>5191.0</td><td>no</td></tr><tr><th>6</th><td>45</td><td>services</td><td>married</td><td>basic.9y</td><td>unknown</td><td>no</td><td>no</td><td>telephone</td><td>may</td><td>mon</td><td>198</td><td>1</td><td>999</td><td>0</td><td>nonexistent</td><td>1.1</td><td>93.994</td><td>-36.4</td><td>4.857</td><td>5191.0</td><td>no</td></tr><tr><th>7</th><td>59</td><td>admin.</td><td>married</td><td>professional.course</td><td>no</td><td>no</td><td>no</td><td>telephone</td><td>may</td><td>mon</td><td>139</td><td>1</td><td>999</td><td>0</td><td>nonexistent</td><td>1.1</td><td>93.994</td><td>-36.4</td><td>4.857</td><td>5191.0</td><td>no</td></tr><tr><th>8</th><td>41</td><td>blue-collar</td><td>married</td><td>unknown</td><td>unknown</td><td>no</td><td>no</td><td>telephone</td><td>may</td><td>mon</td><td>217</td><td>1</td><td>999</td><td>0</td><td>nonexistent</td><td>1.1</td><td>93.994</td><td>-36.4</td><td>4.857</td><td>5191.0</td><td>no</td></tr><tr><th>9</th><td>24</td><td>technician</td><td>single</td><td>professional.course</td><td>no</td><td>yes</td><td>no</td><td>telephone</td><td>may</td><td>mon</td><td>380</td><td>1</td><td>999</td><td>0</td><td>nonexistent</td><td>1.1</td><td>93.994</td><td>-36.4</td><td>4.857</td><td>5191.0</td><td>no</td></tr><tr><th>10</th><td>25</td><td>services</td><td>single</td><td>high.school</td><td>no</td><td>yes</td><td>no</td><td>telephone</td><td>may</td><td>mon</td><td>50</td><td>1</td><td>999</td><td>0</td><td>nonexistent</td><td>1.1</td><td>93.994</td><td>-36.4</td><td>4.857</td><td>5191.0</td><td>no</td></tr></tbody></table>"
      ],
      "text/plain": [
       "10×21 DataFrames.DataFrame\n",
       "│ Row │ age │ job           │ marital   │ education             │ default   │\n",
       "├─────┼─────┼───────────────┼───────────┼───────────────────────┼───────────┤\n",
       "│ 1   │ 56  │ \"housemaid\"   │ \"married\" │ \"basic.4y\"            │ \"no\"      │\n",
       "│ 2   │ 57  │ \"services\"    │ \"married\" │ \"high.school\"         │ \"unknown\" │\n",
       "│ 3   │ 37  │ \"services\"    │ \"married\" │ \"high.school\"         │ \"no\"      │\n",
       "│ 4   │ 40  │ \"admin.\"      │ \"married\" │ \"basic.6y\"            │ \"no\"      │\n",
       "│ 5   │ 56  │ \"services\"    │ \"married\" │ \"high.school\"         │ \"no\"      │\n",
       "│ 6   │ 45  │ \"services\"    │ \"married\" │ \"basic.9y\"            │ \"unknown\" │\n",
       "│ 7   │ 59  │ \"admin.\"      │ \"married\" │ \"professional.course\" │ \"no\"      │\n",
       "│ 8   │ 41  │ \"blue-collar\" │ \"married\" │ \"unknown\"             │ \"unknown\" │\n",
       "│ 9   │ 24  │ \"technician\"  │ \"single\"  │ \"professional.course\" │ \"no\"      │\n",
       "│ 10  │ 25  │ \"services\"    │ \"single\"  │ \"high.school\"         │ \"no\"      │\n",
       "\n",
       "│ Row │ housing │ loan  │ contact     │ month │ day_of_week │ duration │\n",
       "├─────┼─────────┼───────┼─────────────┼───────┼─────────────┼──────────┤\n",
       "│ 1   │ \"no\"    │ \"no\"  │ \"telephone\" │ \"may\" │ \"mon\"       │ 261      │\n",
       "│ 2   │ \"no\"    │ \"no\"  │ \"telephone\" │ \"may\" │ \"mon\"       │ 149      │\n",
       "│ 3   │ \"yes\"   │ \"no\"  │ \"telephone\" │ \"may\" │ \"mon\"       │ 226      │\n",
       "│ 4   │ \"no\"    │ \"no\"  │ \"telephone\" │ \"may\" │ \"mon\"       │ 151      │\n",
       "│ 5   │ \"no\"    │ \"yes\" │ \"telephone\" │ \"may\" │ \"mon\"       │ 307      │\n",
       "│ 6   │ \"no\"    │ \"no\"  │ \"telephone\" │ \"may\" │ \"mon\"       │ 198      │\n",
       "│ 7   │ \"no\"    │ \"no\"  │ \"telephone\" │ \"may\" │ \"mon\"       │ 139      │\n",
       "│ 8   │ \"no\"    │ \"no\"  │ \"telephone\" │ \"may\" │ \"mon\"       │ 217      │\n",
       "│ 9   │ \"yes\"   │ \"no\"  │ \"telephone\" │ \"may\" │ \"mon\"       │ 380      │\n",
       "│ 10  │ \"yes\"   │ \"no\"  │ \"telephone\" │ \"may\" │ \"mon\"       │ 50       │\n",
       "\n",
       "│ Row │ campaign │ pdays │ previous │ poutcome      │ emp_var_rate │\n",
       "├─────┼──────────┼───────┼──────────┼───────────────┼──────────────┤\n",
       "│ 1   │ 1        │ 999   │ 0        │ \"nonexistent\" │ 1.1          │\n",
       "│ 2   │ 1        │ 999   │ 0        │ \"nonexistent\" │ 1.1          │\n",
       "│ 3   │ 1        │ 999   │ 0        │ \"nonexistent\" │ 1.1          │\n",
       "│ 4   │ 1        │ 999   │ 0        │ \"nonexistent\" │ 1.1          │\n",
       "│ 5   │ 1        │ 999   │ 0        │ \"nonexistent\" │ 1.1          │\n",
       "│ 6   │ 1        │ 999   │ 0        │ \"nonexistent\" │ 1.1          │\n",
       "│ 7   │ 1        │ 999   │ 0        │ \"nonexistent\" │ 1.1          │\n",
       "│ 8   │ 1        │ 999   │ 0        │ \"nonexistent\" │ 1.1          │\n",
       "│ 9   │ 1        │ 999   │ 0        │ \"nonexistent\" │ 1.1          │\n",
       "│ 10  │ 1        │ 999   │ 0        │ \"nonexistent\" │ 1.1          │\n",
       "\n",
       "│ Row │ cons_price_idx │ cons_conf_idx │ euribor3m │ nr_employed │ y    │\n",
       "├─────┼────────────────┼───────────────┼───────────┼─────────────┼──────┤\n",
       "│ 1   │ 93.994         │ -36.4         │ 4.857     │ 5191.0      │ \"no\" │\n",
       "│ 2   │ 93.994         │ -36.4         │ 4.857     │ 5191.0      │ \"no\" │\n",
       "│ 3   │ 93.994         │ -36.4         │ 4.857     │ 5191.0      │ \"no\" │\n",
       "│ 4   │ 93.994         │ -36.4         │ 4.857     │ 5191.0      │ \"no\" │\n",
       "│ 5   │ 93.994         │ -36.4         │ 4.857     │ 5191.0      │ \"no\" │\n",
       "│ 6   │ 93.994         │ -36.4         │ 4.857     │ 5191.0      │ \"no\" │\n",
       "│ 7   │ 93.994         │ -36.4         │ 4.857     │ 5191.0      │ \"no\" │\n",
       "│ 8   │ 93.994         │ -36.4         │ 4.857     │ 5191.0      │ \"no\" │\n",
       "│ 9   │ 93.994         │ -36.4         │ 4.857     │ 5191.0      │ \"no\" │\n",
       "│ 10  │ 93.994         │ -36.4         │ 4.857     │ 5191.0      │ \"no\" │"
      ]
     },
     "execution_count": 12,
     "metadata": {},
     "output_type": "execute_result"
    }
   ],
   "source": [
    "marketdata = readtable(\"bank-additional-full.csv\", separator=';')\n",
    "marketdata[1:10,:]"
   ]
  },
  {
   "cell_type": "code",
   "execution_count": 15,
   "metadata": {
    "collapsed": false
   },
   "outputs": [
    {
     "data": {
      "text/plain": [
       "Set(String[\"admin.\", \"unknown\", \"management\", \"services\", \"retired\", \"entrepreneur\", \"technician\", \"self-employed\", \"blue-collar\", \"student\", \"housemaid\", \"unemployed\"])"
      ]
     },
     "execution_count": 15,
     "metadata": {},
     "output_type": "execute_result"
    }
   ],
   "source": [
    "Set(marketdata[:job])"
   ]
  },
  {
   "cell_type": "code",
   "execution_count": 21,
   "metadata": {
    "collapsed": false
   },
   "outputs": [
    {
     "ename": "LoadError",
     "evalue": "\u001b[91mPyError (ccall(@pysym(:PyObject_Call), PyPtr, (PyPtr, PyPtr, PyPtr), o, arg, kw)) <type 'exceptions.ValueError'>\nValueError('could not convert string to float: housemaid',)\n  File \"/usr/local/lib/python2.7/dist-packages/matplotlib/pyplot.py\", line 3317, in plot\n    ret = ax.plot(*args, **kwargs)\n  File \"/usr/local/lib/python2.7/dist-packages/matplotlib/__init__.py\", line 1898, in inner\n    return func(ax, *args, **kwargs)\n  File \"/usr/local/lib/python2.7/dist-packages/matplotlib/axes/_axes.py\", line 1407, in plot\n    self.add_line(line)\n  File \"/usr/local/lib/python2.7/dist-packages/matplotlib/axes/_base.py\", line 1793, in add_line\n    self._update_line_limits(line)\n  File \"/usr/local/lib/python2.7/dist-packages/matplotlib/axes/_base.py\", line 1815, in _update_line_limits\n    path = line.get_path()\n  File \"/usr/local/lib/python2.7/dist-packages/matplotlib/lines.py\", line 989, in get_path\n    self.recache()\n  File \"/usr/local/lib/python2.7/dist-packages/matplotlib/lines.py\", line 685, in recache\n    y = np.asarray(yconv, np.float_)\n  File \"/usr/local/lib/python2.7/dist-packages/numpy/core/numeric.py\", line 531, in asarray\n    return array(a, dtype, copy=False, order=order)\n\u001b[39m",
     "output_type": "error",
     "traceback": [
      "\u001b[91mPyError (ccall(@pysym(:PyObject_Call), PyPtr, (PyPtr, PyPtr, PyPtr), o, arg, kw)) <type 'exceptions.ValueError'>\nValueError('could not convert string to float: housemaid',)\n  File \"/usr/local/lib/python2.7/dist-packages/matplotlib/pyplot.py\", line 3317, in plot\n    ret = ax.plot(*args, **kwargs)\n  File \"/usr/local/lib/python2.7/dist-packages/matplotlib/__init__.py\", line 1898, in inner\n    return func(ax, *args, **kwargs)\n  File \"/usr/local/lib/python2.7/dist-packages/matplotlib/axes/_axes.py\", line 1407, in plot\n    self.add_line(line)\n  File \"/usr/local/lib/python2.7/dist-packages/matplotlib/axes/_base.py\", line 1793, in add_line\n    self._update_line_limits(line)\n  File \"/usr/local/lib/python2.7/dist-packages/matplotlib/axes/_base.py\", line 1815, in _update_line_limits\n    path = line.get_path()\n  File \"/usr/local/lib/python2.7/dist-packages/matplotlib/lines.py\", line 989, in get_path\n    self.recache()\n  File \"/usr/local/lib/python2.7/dist-packages/matplotlib/lines.py\", line 685, in recache\n    y = np.asarray(yconv, np.float_)\n  File \"/usr/local/lib/python2.7/dist-packages/numpy/core/numeric.py\", line 531, in asarray\n    return array(a, dtype, copy=False, order=order)\n\u001b[39m",
      "",
      "Stacktrace:",
      " [1] \u001b[1mpyerr_check\u001b[22m\u001b[22m at \u001b[1m/home/juser/.julia/v0.6/PyCall/src/exception.jl:56\u001b[22m\u001b[22m [inlined]",
      " [2] \u001b[1mpyerr_check\u001b[22m\u001b[22m at \u001b[1m/home/juser/.julia/v0.6/PyCall/src/exception.jl:61\u001b[22m\u001b[22m [inlined]",
      " [3] \u001b[1mmacro expansion\u001b[22m\u001b[22m at \u001b[1m/home/juser/.julia/v0.6/PyCall/src/exception.jl:81\u001b[22m\u001b[22m [inlined]",
      " [4] \u001b[1m#_pycall#67\u001b[22m\u001b[22m\u001b[1m(\u001b[22m\u001b[22m::Array{Any,1}, ::Function, ::PyCall.PyObject, ::DataArrays.DataArray{Int64,1}, ::Vararg{Any,N} where N\u001b[1m)\u001b[22m\u001b[22m at \u001b[1m/home/juser/.julia/v0.6/PyCall/src/PyCall.jl:658\u001b[22m\u001b[22m",
      " [5] \u001b[1m(::PyCall.#kw##_pycall)\u001b[22m\u001b[22m\u001b[1m(\u001b[22m\u001b[22m::Array{Any,1}, ::PyCall.#_pycall, ::PyCall.PyObject, ::DataArrays.DataArray{Int64,1}, ::Vararg{Any,N} where N\u001b[1m)\u001b[22m\u001b[22m at \u001b[1m./<missing>:0\u001b[22m\u001b[22m",
      " [6] \u001b[1m#pycall#71\u001b[22m\u001b[22m\u001b[1m(\u001b[22m\u001b[22m::Array{Any,1}, ::Function, ::PyCall.PyObject, ::Type{PyCall.PyAny}, ::DataArrays.DataArray{Int64,1}, ::Vararg{Any,N} where N\u001b[1m)\u001b[22m\u001b[22m at \u001b[1m/home/juser/.julia/v0.6/PyCall/src/PyCall.jl:675\u001b[22m\u001b[22m",
      " [7] \u001b[1m(::PyCall.#kw##pycall)\u001b[22m\u001b[22m\u001b[1m(\u001b[22m\u001b[22m::Array{Any,1}, ::PyCall.#pycall, ::PyCall.PyObject, ::Type{PyCall.PyAny}, ::DataArrays.DataArray{Int64,1}, ::Vararg{Any,N} where N\u001b[1m)\u001b[22m\u001b[22m at \u001b[1m./<missing>:0\u001b[22m\u001b[22m",
      " [8] \u001b[1m#plot#85\u001b[22m\u001b[22m\u001b[1m(\u001b[22m\u001b[22m::Array{Any,1}, ::Function, ::DataArrays.DataArray{Int64,1}, ::Vararg{Any,N} where N\u001b[1m)\u001b[22m\u001b[22m at \u001b[1m/home/juser/.julia/v0.6/PyPlot/src/PyPlot.jl:172\u001b[22m\u001b[22m",
      " [9] \u001b[1m(::PyPlot.#kw##plot)\u001b[22m\u001b[22m\u001b[1m(\u001b[22m\u001b[22m::Array{Any,1}, ::PyPlot.#plot, ::DataArrays.DataArray{Int64,1}, ::Vararg{Any,N} where N\u001b[1m)\u001b[22m\u001b[22m at \u001b[1m./<missing>:0\u001b[22m\u001b[22m"
     ]
    }
   ],
   "source": [
    "PyPlot.clf()\n",
    "PyPlot.plot(marketdata[:age], marketdata[:job], \"ro\", label=\"\"),\n",
    "PyPlot.legend()\n",
    "PyPlot.xlabel(\"Year\")\n",
    "PyPlot.ylabel(\"Tax\")"
   ]
  }
 ],
 "metadata": {
  "kernelspec": {
   "display_name": "Julia 0.6.0",
   "language": "julia",
   "name": "julia-0.6"
  },
  "language_info": {
   "file_extension": ".jl",
   "mimetype": "application/julia",
   "name": "julia",
   "version": "0.6.0"
  }
 },
 "nbformat": 4,
 "nbformat_minor": 2
}
